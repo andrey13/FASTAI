{
 "cells": [
  {
   "cell_type": "code",
   "execution_count": 1,
   "id": "51c44985-e750-4011-a438-97a5e707f014",
   "metadata": {},
   "outputs": [],
   "source": [
    "import cupy as cp"
   ]
  },
  {
   "cell_type": "code",
   "execution_count": 2,
   "id": "b81d33ad-0064-4aa9-bc15-9d054a4e5290",
   "metadata": {},
   "outputs": [
    {
     "name": "stdout",
     "output_type": "stream",
     "text": [
      "1\n"
     ]
    }
   ],
   "source": [
    "print(cp.cuda.runtime.getDeviceCount())"
   ]
  },
  {
   "cell_type": "code",
   "execution_count": 3,
   "id": "65f3a0bc-6627-43d2-8000-1b2f3d802b7c",
   "metadata": {},
   "outputs": [
    {
     "name": "stdout",
     "output_type": "stream",
     "text": [
      "0\n"
     ]
    }
   ],
   "source": [
    "print(cp.cuda.runtime.getDevice())"
   ]
  },
  {
   "cell_type": "code",
   "execution_count": 4,
   "id": "d0cf9848-fdc2-40c1-b158-3e74d80b530b",
   "metadata": {},
   "outputs": [],
   "source": [
    "x_gpu = cp.array([1, 2, 3])"
   ]
  },
  {
   "cell_type": "code",
   "execution_count": 5,
   "id": "0d8ab8eb-b767-4a51-b60e-35ce8aead85c",
   "metadata": {},
   "outputs": [],
   "source": [
    "result_gpu = x_gpu * 2"
   ]
  },
  {
   "cell_type": "code",
   "execution_count": 6,
   "id": "3457f43d-aea1-488f-9743-90962867615c",
   "metadata": {},
   "outputs": [
    {
     "name": "stdout",
     "output_type": "stream",
     "text": [
      "[2 4 6]\n"
     ]
    }
   ],
   "source": [
    "print(result_gpu)"
   ]
  },
  {
   "cell_type": "code",
   "execution_count": null,
   "id": "bc1dbac9-1e38-47ae-b60c-6aa5f09e38ba",
   "metadata": {},
   "outputs": [],
   "source": []
  }
 ],
 "metadata": {
  "kernelspec": {
   "display_name": "Python 3 (ipykernel)",
   "language": "python",
   "name": "python3"
  },
  "language_info": {
   "codemirror_mode": {
    "name": "ipython",
    "version": 3
   },
   "file_extension": ".py",
   "mimetype": "text/x-python",
   "name": "python",
   "nbconvert_exporter": "python",
   "pygments_lexer": "ipython3",
   "version": "3.11.4"
  }
 },
 "nbformat": 4,
 "nbformat_minor": 5
}
